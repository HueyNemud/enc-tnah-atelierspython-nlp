{
 "cells": [
  {
   "cell_type": "markdown",
   "metadata": {},
   "source": [
    "<style>\n",
    "    .renbox {\n",
    "        width: 100%;\n",
    "        height: 100%;\n",
    "        padding: 2px;\n",
    "        margin: 3px;\n",
    "        border-radius: 3px;\n",
    "        box-shadow: 0 0 10px rgba(0, 0, 0, 0.1);\n",
    "        font-weight: bolder;\n",
    "        background-color: #8b8c8b;\n",
    "    }\n",
    "    .per {\n",
    "        background-color: #ffb654;\n",
    "    }\n",
    "    .org {\n",
    "        background-color: #49ace6;\n",
    "    }\n",
    "    .misc {\n",
    "        background-color: #c2ccd1;\n",
    "    }\n",
    "    .loc {\n",
    "        background-color: #3deb6c;\n",
    "    }\n",
    "</style>\n",
    "\n",
    "# Partie 2 : Résolution de toponymes à l'aide d'un référentiel du Web de données\n",
    "\n",
    "Bonjour 👋 !\n",
    "\n",
    "Bienvenue dans la seconde partie de la séquence dédiée à l'expérimentation du **traitement automatique du langage naturel** (TALN) grâce à un **modèle d'apprentissage profond**.\n",
    "\n",
    "\n",
    "## Objectifs de la séance 🎯\n",
    "- expérimenter un mécanisme de liage d'entité (*Entity linking*) ;\n",
    "- construire une chaîne de traitement complète de *geoparsing* dans des textes ;\n",
    "- apprendre à utiliser la bibliothèque Python `requests` pour requêter l'API de la BnF et de DBPedia ;\n",
    "- créer une carte de chaleur avec la bibliothèque `folium`\n",
    "\n",
    "## Important ❗\n",
    "\n",
    "1. Répondez aux questions directement dans les cellules de ce notebook.\n",
    "\n",
    "2. 🆘 Une question n'est pas claire ? Vous êtes bloqué(e) ?  N'attendez pas, **appelez à l'aide 🙋**.  \n",
    "\n",
    "3. 🤖 Vous pouvez utiliser ChatGPT/Gemini/etc. pour vous aider, **mais** contraignez vous à n'utiliser ses propositions **que si vous les comprenez vraiment**. Ne devenez pas esclave de la machine ! 🙏\n",
    "\n",
    "4. 😌 Si vous n'avez pas réussi ou pas eu le temps de répondre à une question, **pas de panique**, le répertoire `correction/` contient une solution !\n",
    "\n",
    "ℹ️ **Info** : La difficulté d'une question **🧩**  est indiquée de ⭐ à ⭐⭐⭐⭐.\n",
    "\n",
    "# A/ Résolution de toponymes et géocodage avec DBPedia\n",
    "\n",
    "## Introduction à la résolution de toponymes 🔬\n",
    "\n",
    "La **résolution de toponymes** entre dans le domaine de l'ingénierie des connaissances en tant que cas particulier d'une tâche générale nommée **liage d'entités** (en anglais *Entity Linking - EL*).\n",
    "Le liage d'entités suit l'étape de reconnaissance des entités nommées (REN/*NER*) et consiste à associer les entités annotées avec une **ressource dans une base de connaissances de référence** avec deux objectifs :\n",
    "\n",
    "1. **désambiguïser** les entités nommées, car on considère que deux entités nommées liées à la même ressource sont en fait deux mentions de la même entité du monde réel.\n",
    "2. **enrichir** les informations extraites grâce aux métadonnées que fournit la base de connaissances. Dans le cas des lieux, on sera évidemment intéressé par leurs **coordonnées géographiques**.\n",
    "\n",
    "La résolution de toponymes est tout simplement le nom donné au liage d'entités nommées qui désignent des lieux. Si, en plus, on récupère des coordonnées géographiques pour cartographier les toponymes, la tâche devient une tâche de **géocodage** !\n",
    "\n",
    "La base de connaissance peut être n'importe quel référentiel externe, mais les **bonnes pratiques** du domaine veulent que l'on essaye généralement de privilégier soit des **référentiels d'autorité** comme le catalogue de la BnF, soit des grands **graphes de connaissances ouverts** et publiés sur le Web de données , par exemple Wikidata ou DBPedia qui sont des versions de Wikipedia sous forme de graphes de connaissances.\n",
    "\n",
    "Le processus de résolution de toponymes peut être décomposé en trois parties  :\n",
    "\n",
    "<img src=\"./figs/schema.jpg\" alt=\"Recherche dans un référentiel -> Désambiguisation -> Géocodage\" width=\"80%\"></img>\n",
    "\n",
    "<span style=\"color: red; font-size: 1.2em;\"><strong>🚨 Attention |</strong></span>  **Dans cet atelier nous négligeront l'étape de désambiguïsation.* Elle peut toutefois être essentielle selon le cas d'application; n'hésitez pas à demander d'en discuter ! 🙋\n",
    "\n",
    "\n",
    "## Échauffement\n",
    "\n",
    "Commençons par la première étape de **recherche des entités nommées lieux (LOC)**.\n",
    "\n",
    "Pour l'exemple, dans  l'extrait de l'article sur le naufrage du titanic on trouve deux mentions de lieux, <span class =\"renbox loc\">Staffordshire<sup>[LIEU]</sup></span> et <span class =\"renbox loc\">Liverpool<sup>[LIEU]</sup></span> : \n",
    "\n",
    "\n",
    "> « Le capitaine <span class =\"renbox per\">Smith<sup>[PERSONNE]</sup></span> qui commandait le <span class=\"renbox misc\">Titanic<sup>[OBJET]</sup></span> est, nous l'avons dit hier, depuis plus de 35 ans au service de la <span class =\"renbox org\">White Star Line<sup>[ORGANISATION]</sup></span>.\n",
    "> Il est actuellement agé de 60 ans.\n",
    ">  Né dans le <span class =\"renbox loc\">Staffordshire<sup>[LIEU]</sup></span>, le capitaine <span class =\"renbox per\">Smith<sup>[PERSONNE]</sup></span> avait fait son apprentissage de marin dans la maison d'armement <span class =\"renbox org\">Gibson et C°<sup>[ORGANISATION]</sup></span>, de <span class =\"renbox loc\">Liverpool<sup>[LIEU]</sup></span>. »\n",
    "\n",
    "\n",
    "Nous allons utiliser comme référentiel de [DBPediaFR](https://fr.dbpedia.org/) (https://fr.dbpedia.org/).\n",
    "DBPediaFR est une représentation en graphe de connaissances du contenu de Wikipédia en français. \n",
    "\n",
    "Chaque page de Wikipédia en français devient donc une **ressource RDF** dans le graphe, qui possède une **URI** et qui est enrichie de nombreuses **métadonnées**.\n",
    "\n",
    "Par exemple, la page Wikipédia de l'École Nationale des Chartes est transformée une ressources RDF dont l'URI (qui est ici un URL) est :\n",
    "> http://fr.dbpedia.org/resource/École_nationale_des_chartes\n",
    "\n",
    "Si l'on va à cet URL dans un navigateur Web, on peut voir un résumé de toutes les triplets RDF associés à cette ressource.\n",
    "\n",
    "Mais comment trouve-t-on l'URI d'un lieu dans DBPediaFR à partir de son nom ?\n",
    "Pour cela, on peut utiliser l'outil open source  [https://fr.dbpedia.org/lookup.html](https://fr.dbpedia.org/lookup.html), qui permet justement de faire cette recherche ! \n",
    "\n",
    "<div style=\"border-top: 1px solid #ff9800; padding: 10px; border-radius: 5px; color:#ff9800;\"><strong>🧩 - QUESTION 1 - ⭐</strong></div>\n",
    "\n",
    "En utilisant l'outil DBPediaFR lookup (https://fr.dbpedia.org/lookup.html), recherchez le lieu <span class =\"renbox loc\">Staffordshire<sup>[LIEU]</sup></span>.\n",
    "Rendez-vous sur la page de présentation de la meilleure resource identifiée, et recherchez parmi les triplets associés s'il y a des coordonnées géographiques. \n",
    "\n",
    "Quel sont les noms et les préfixes RDF des propriétés utilisées pour décrire ces informations géographiques ? Notez les dans un coin, vous en aurez besoin plus tard !\n",
    "\n",
    "<div style=\"border-bottom: 1px solid #ff9800; padding: 10px; border-radius: 5px; margin-top: -30px;\"></div>\n",
    "\n",
    "Vous venez de tester à la main la première étape de la  résolution de toponymes grâce à DBPedia Lookup.\n",
    "Le but va maintenant être d'automatiser ce processus !\n",
    "\n",
    "\n",
    "## Résoudre un toponyme avec l'API de DBPedia Lookup\n",
    "\n",
    "[DPBedia Lookpup](https://github.com/dbpedia/dbpedia-lookup) va être très utile car son instance officielle [https://lookup.dbpedia.org/](https://fr.dbpedia.org/lookup.html) mets à disposition une API REST qui permet de l'interroger avec une simple URL.\n",
    "\n",
    "Par exemple pour récupérer les meilleurs candidats pour le toponym *Staffordshire*, il suffit d'appeler : \n",
    "\n",
    "\n",
    ">https://fr.dbpedia.org/lookup/api/search?query=Staffordshire\n"
   ]
  },
  {
   "cell_type": "code",
   "execution_count": null,
   "metadata": {},
   "outputs": [],
   "source": [
    "# Exécutez-moi ! 🚀\n",
    "\n",
    "! curl -s \"https://fr.dbpedia.org/lookup/api/search?query=Staffordshire\" # -s pour le mode silencieux et ne pas afficher la progression de la requête"
   ]
  },
  {
   "cell_type": "markdown",
   "metadata": {},
   "source": [
    "<span style=\"color: #40d6d1; font-size: 1.2em;\"><strong>💡 Astuce |</strong></span> Une documentation est disponible ici : https://www.dbpedia.org/resources/lookup/\n",
    "\n",
    "Vous aurez remarqué qu'on récupère les résultats au format XML, peu pratique à manipuler en Python.\n",
    "Heureusement l'outil propose un mécanisme de **négociation de contenu** qui permet de préciser un format alternatif avec le paramètre `format=`...et il serait préférable de récupérer du JSON.\n",
    "\n",
    "<div style=\"border-top: 1px solid #ff9800; padding: 10px; border-radius: 5px; color:#ff9800;\"><strong>🧩 - QUESTION 2 - </strong></div>\n",
    "\n",
    "Dans votre navigateur Web préféré, allez à l'URL suivante et vérifiez si les résultats renvoyés par l'API semblent correspondre à ce que vous obteniez avec la version graphique de DBPediaFR Lookup :\n",
    "\n",
    "> https://fr.dbpedia.org/lookup/api/search?query=Staffordshire&format=JSON\n",
    " \n",
    "\n",
    " <div style=\"border-bottom: 1px solid #ff9800; padding: 10px; border-radius: 5px; margin-top: -30px;\"></div>\n",
    "\n",
    "## Automatisation des appels à DBPedia Lookup\n",
    "\n",
    "Bien sûr, on souhaite automatiser ces appels à l'API afin de pouvoir résoudre des toponymes reconnus dans un texte à la volée !\n",
    "\n",
    "Pour faire cela avec Python, nous allons utiliser la bibliothèque `requests` qui permet, comme son nom l'indique, d'exécuter des requêtes HTTP et de récupérer la réponse.\n",
    "\n",
    "Commençons par installer `requests`"
   ]
  },
  {
   "cell_type": "code",
   "execution_count": null,
   "metadata": {},
   "outputs": [],
   "source": [
    "# Exécutez-moi ! 🚀\n",
    "\n",
    "%pip install -q requests"
   ]
  },
  {
   "cell_type": "markdown",
   "metadata": {},
   "source": [
    "Une requête HTTP dont les paramètres sont passés via l'URL est dite de type GET.\n",
    "\n",
    "Avec requests, on peut très facilement exécuter ce genre de requêtes et récupérer une réponse grâce à la fonction `requests.get(...)` :"
   ]
  },
  {
   "cell_type": "code",
   "execution_count": null,
   "metadata": {},
   "outputs": [],
   "source": [
    "# Exécutez-moi ! 🚀\n",
    "\n",
    "import requests # On importe la librairie requests\n",
    "\n",
    "query = \"https://lookup.dbpedia.org/api/search?query=Staffordshire&format=JSON\" #Notre requête GET\n",
    "\n",
    "response = requests.get(query) # On l'exécute\n",
    "\n",
    "response.raise_for_status() # Appeler raise_for_status() après une requête GET est une bonne pratique : cela permet de lever automatiquement une exception si la requête a échoué.\n",
    "\n",
    "print(type(response), response)"
   ]
  },
  {
   "cell_type": "markdown",
   "metadata": {},
   "source": [
    "`requests.get()` renvoie donc un objet Python de type `requests.models.Response`, qui quand on l'affiche donne le code HTTP retour, ici 200, qui signifie que [tout s'est bien passé ](https://developer.mozilla.org/fr/docs/Web/HTTP/Reference/Status/200).\n",
    "\n",
    "On peut alors récupérer le contenu de la réponse de plusieurs manières :"
   ]
  },
  {
   "cell_type": "code",
   "execution_count": null,
   "metadata": {},
   "outputs": [],
   "source": [
    "# Exécutez-moi ! 🚀\n",
    "\n",
    "# Sous sa forme brute :\n",
    "print(\"Réponse 'brute':\", response.content)\n",
    "\n",
    "# Sous sa forme textuelle :\n",
    "print(\"Réponse textuelle:\", response.text)\n",
    "\n",
    "# Sous la forme d'un JSON déja parsé et transformé en dictionnaire Python. Attention, si le contenu n'est pas du JSON, cela lèvera une exception\n",
    "print(\"Réponse JSON:\", response.json())"
   ]
  },
  {
   "cell_type": "markdown",
   "metadata": {},
   "source": [
    "Dans notre cas nous sommes évidemment plutôt interessés à récupérer les ressources correspondant à une requête sous la forme d'une liste de dictionnaires Python !\n",
    "\n",
    "Nous allons donc créer une fonction chargée de rechercher sur DBPedia un lieu passé en paramètre. \n",
    "\n",
    "<div style=\"border-top: 1px solid #ff9800; padding: 10px; border-radius: 5px; color:#ff9800;\"><strong>🧩 - QUESTION 3 - ⭐⭐</strong></div>\n",
    "\n",
    "Complétez la fonction `dbpedia_lookup(toponyme: str)` ci-dessous, qui prend en paramètre un `toponyme` sous forme de chaîne de caractère, et renvoie  le contenu de l'élément racine \"docs\" de la réponse HTTP sous forme d'une liste de ressources représentées par des dictionnaires Python."
   ]
  },
  {
   "cell_type": "code",
   "execution_count": 77,
   "metadata": {},
   "outputs": [],
   "source": [
    "# Complétez-moi ! 🏗️\n",
    "\n",
    "from typing import Any\n",
    "from functools import cache\n",
    "\n",
    "\n",
    "@cache\n",
    "def dbpedia_lookup(toponyme: str) -> list[dict[str, Any]]:\n",
    "    query = f\"https://fr.dbpedia.org/lookup/api/search?query={toponyme}&format=JSON\"\n",
    "    response = ... # Complétez ici ! 🏗️\n",
    "    response.raise_for_status()\n",
    "\n",
    "    response_json = ... # Complétez ici ! 🏗️\n",
    "    docs = ...  # Complétez ici ! 🏗️\n",
    "    return docs or []"
   ]
  },
  {
   "cell_type": "markdown",
   "metadata": {},
   "source": [
    "Vérifiez que votre fonction a le bon comportement en exécutant la cellule suivante."
   ]
  },
  {
   "cell_type": "code",
   "execution_count": null,
   "metadata": {},
   "outputs": [],
   "source": [
    "# Exécutez-moi ! 🚀\n",
    "\n",
    "t = \"Staffordshire\"\n",
    "r = dbpedia_lookup(t)\n",
    "\n",
    "# La réponse devrait être une liste de 10 resources représentées comme des dictionnaires Python\n",
    "assert all(  # Toutes les conditions suivantes doivent être vraies\n",
    "    [\n",
    "        isinstance(r, list),  # La réponse doit être une liste\n",
    "        len(r) == 10,  # La liste doit contenir 10 éléments\n",
    "        all(isinstance(x, dict) for x in r),  # Chaque élément est un dictionnaire\n",
    "    ]\n",
    ")"
   ]
  },
  {
   "cell_type": "markdown",
   "metadata": {},
   "source": [
    " <div style=\"border-bottom: 1px solid #ff9800; padding: 10px; border-radius: 5px; margin-top: -30px;\"></div>\n",
    "\n",
    " <span style=\"color: #40d6d1; font-size: 1.2em;\"><strong>💡 Astuce |</strong></span> Chaque appel à `dbpedia_lookup()`, même avec le même toponyme, créera une requête HTTP vers l'API de DBPediaFR Lookup. Il serait très pertinent d'ajouter un mécanisme de **cache** pour s'épargner des requêtes redondantes et lentes.\n",
    " La bibliothèque standard [`functools`](https://docs.python.org/3/library/functools.html) offre une méthode de mise en cache dans la mémoire vive extrêmement simple : il suffit d'ajouter le décorateur `@cache` au dessus d'une fonction ! Ainsi, le cache conservera en mémoire chaque appel à la fonction et sa réponse : si le même appel a déjà été fait, il n'exécutera pas la fonction et renverra directement le résultat mémorisé ! \n",
    " Par exemple :\n",
    " ```python\n",
    " from functols import cache\n",
    "\n",
    " @cache # Et hop, les appels à dbpedia_lookup seront mis en cache !\n",
    " def dbpedia_lookup(toponyme: str) -> list[dict[str, Any]]:\n",
    "    ...\n",
    "\n"
   ]
  },
  {
   "cell_type": "markdown",
   "metadata": {},
   "source": [
    "## Récupération de l'URI de la meilleure resource identifiée\n",
    "\n",
    "DBPediaFR nous renvoie la liste des resources correspondant à la requête. C'est bien, mais ce que l'on aimerait c'est accéder aux triplets associés à cette resource afin de récupérer les coordonnées géographiques associées, s'il y en a !\n",
    "\n",
    "Nous allons donc avoir besoin d'un mécanisme supplémentaire pour :\n",
    "1. **récupérer** les URI des resources dans les dictionnaires renvoyés par `dbpedia_lookup()`.\n",
    "2. **filtrer la liste** pour conserver uniquement le meilleur résultat (=le premier) pour éviter des requêtes sur des resources que l'on utilisera pas.\n",
    "\n",
    "\n",
    "Nous allons pour cela créer une nouvelle fonction qui englobera `dbpedia_lookup()`, nommées `dbpedia_top1(toponyme: str)-> str | None` qui prends en paramètre un toponyme et renvoie **l'URI de la meilleure resource identifiée par DBPediaFR lookup** (ou None s'il n'y a pas de résultat).\n",
    "\n",
    "Chaque resources JSON renvoyée par l'API de DBPediaFR Lookup contient une propriété `resource` contenant une liste d'URI pour cette resources.\n",
    "Nous considérerons que l'URI de la resource est **le premier élément de cette liste**.\n",
    "\n",
    "Par exemple, ce sera \"http://dbpedia.org/resource/Staffordshire\" pour le toponyme \"Staffordshire\" :"
   ]
  },
  {
   "cell_type": "code",
   "execution_count": null,
   "metadata": {},
   "outputs": [],
   "source": [
    "# Exécutez-moi ! 🚀\n",
    "\n",
    "! curl -s \"https://fr.dbpedia.org/lookup/api/search?query=Staffordshire&format=JSON\" | jq \".docs[0].resource\" # jq est un utilitaire bash pour manipuler du JSON, très très pratique !"
   ]
  },
  {
   "cell_type": "markdown",
   "metadata": {},
   "source": [
    "\n",
    "\n",
    "<div style=\"border-top: 1px solid #ff9800; padding: 10px; border-radius: 5px; color:#ff9800;\"><strong>🧩 - QUESTION 4 - ⭐⭐</strong></div>\n",
    "\n",
    "Complétez le corps de la fonction `dbpedia_top1(str)` dans la cellule suivante afin de récupérer **l'URI de la meilleure resources trouvées pour un toponyme passé en argument**.\n",
    "Si aucun résultat n'est trouvé, la fonction doit renvoyer None"
   ]
  },
  {
   "cell_type": "code",
   "execution_count": null,
   "metadata": {},
   "outputs": [],
   "source": [
    "# Complétez-moi ! 🏗️\n",
    "\n",
    "from functools import cache\n",
    "\n",
    "\n",
    "@cache  # On active la mise en cache pour cette fonction, cf. l'astuce précédente\n",
    "def dbpedia_top1(toponyme: str) -> str | None:\n",
    "    lookup = ...  # Complétez ici ! 🏗️\n",
    "\n",
    "    if not lookup:\n",
    "        return None\n",
    "    else:\n",
    "        return ... # Complétez ici ! 🏗️"
   ]
  },
  {
   "cell_type": "markdown",
   "metadata": {},
   "source": [
    "Vérifiez que la fonction a le comportement attendu en exécutant la cellule suivante :"
   ]
  },
  {
   "cell_type": "code",
   "execution_count": null,
   "metadata": {},
   "outputs": [],
   "source": [
    "# Exécutez-moi ! 🚀\n",
    "\n",
    "t = \"Staffordshire\"\n",
    "r = dbpedia_top1(t)\n",
    "\n",
    "# La réponse doit être l'URI attendue, sous forme de chaîne de caractères\n",
    "assert [isinstance(r, str), r == \"http://fr.dbpedia.org/resource/Staffordshire\"]\n",
    "\n",
    "t = \"Cette ressource n'existe pas \"\n",
    "r = dbpedia_top1(t)\n",
    "\n",
    "# Une resource inexistante doit retourner None, pas provoquer d'erreur\n",
    "assert r is None"
   ]
  },
  {
   "cell_type": "markdown",
   "metadata": {},
   "source": [
    " <div style=\"border-bottom: 1px solid #ff9800; padding: 10px; border-radius: 5px; margin-top: -30px;\"></div>\n",
    "\n",
    "## Récupération des coordonnées géographiques de la resource\n",
    "\n",
    "Maintenant que nous savons récupérer l'URI d'une resources correspondant à un lieu, reste à récupérer ses coordonnées géographiques - en tout cas si celles-ci sont renseignées dans le graphe de DBPediaFR !\n",
    "\n",
    "Pour cela nous allons faire utiliser un tout petit peu (promis) de SPARQL afin de requêter directement le graphe de connaissances de DBPediaFR.\n",
    "\n",
    "Vous avez dû remarquer avec la **question 1** que les coordonnées géographiques en latitude et longitude étaient données par les propriétés `geo:lat` et `geo:long`.\n",
    "\n",
    "Rappelez-vous, un graphe de connaissance représente l'information sous forme de triplets `<s, p, o>` où :\n",
    "- `s` est le sujet du triplet, pour nous le lieu (défini par son URI);\n",
    "- `p` est la propriété (ou prédicat) du triplet. Ce sont donc les propriétés `geo:lat̀` et `geo:long` qui nous intéressent;\n",
    "- `o` est l'objet du triplet, ici la valeur de la coordonnée, autrement dit **ce que l'on veut récupérer** !\n",
    "\n",
    "Voici la requête SPARQL pour récupérer les coordonnées `lat`, `long` de la ressource \"Staffordshire\",  identifiée par son URI DBPediaFR :\n",
    "\n",
    "```sparql\n",
    "PREFIX geo: <http://www.w3.org/2003/01/geo/wgs84_pos#>\n",
    "\n",
    "SELECT ?lat ?long\n",
    "WHERE { \n",
    "    <http://fr.dbpedia.org/resource/Staffordshire> (geo:lat) ?lat ; (geo:long) ?long . \n",
    "}\n",
    "```"
   ]
  },
  {
   "cell_type": "markdown",
   "metadata": {},
   "source": [
    "<div style=\"border-top: 1px solid #ff9800; padding: 10px; border-radius: 5px; color:#ff9800;\"><strong>🧩 - QUESTION 5 - </strong></div>\n",
    "\n",
    "Exécutez cette requête dans le *SPARQL endpoint* de DBPediaFR (https://fr.dbpedia.org/sparql) et vérifiez le résultat contient bien les latitude et longitude du Staffordshire.\n",
    "\n",
    "<span style=\"color: #40d6d1; font-size: 1.2em;\"><strong>💡 Astuce |</strong></span> Ces coordonnées sont celles d'un point, alors que Stafforshire est un comté; c'est donc une description géographique grossière d'une entité surfacique, sans doute son centroïde. Vous pouvez d'ailleurs copier ces coordonnées dans [Google Maps](https://www.google.fr/maps) pour voir quel emplacement sur Terre elles désignent.\n",
    "\n",
    " <div style=\"border-bottom: 1px solid #ff9800; padding: 10px; border-radius: 5px; margin-top: -30px;\"></div>\n"
   ]
  },
  {
   "cell_type": "markdown",
   "metadata": {},
   "source": [
    "L'idée est donc d'exécuter cette requête SPARQL à la demande, avec l'URI renvoyée par `dbpedia_top1()`. \n",
    "\n",
    "Pour cela nous allons à nouveau utiliser `requests`, et profiter du fait qu'il est possible d'interroger le *SPARQL endpoint* et  récupérer les résultats en JSON avec une requête HTTP de type POST.\n",
    "\n",
    "Contrairement aux requêtes GET, les requêtes POST envoient les données de la requête dans un bloc de données.\n",
    "Par exemple, pour récupérer les coordonnées de \"http://dbpedia.org/resource/Staffordshire\" en JSON, avec l'utilitaire bash `cURL` : "
   ]
  },
  {
   "cell_type": "code",
   "execution_count": null,
   "metadata": {},
   "outputs": [],
   "source": [
    "# Exécutez-moi ! 🚀\n",
    "\n",
    "! curl -s -X POST \\\n",
    "-H \"Content-Type: application/sparql-query\" \\\n",
    "-H \"Accept: application/json\" \\\n",
    "--data '''PREFIX geo: <http://www.w3.org/2003/01/geo/wgs84_pos#> SELECT ?lat ?long WHERE { <http://fr.dbpedia.org/resource/Staffordshire> (geo:lat) ?lat ; (geo:long) ?long. }''' \\\n",
    "  http://fr.dbpedia.org/sparql \\\n",
    "  | jq #On passe le résultat à jq pour le formater proprement"
   ]
  },
  {
   "cell_type": "markdown",
   "metadata": {},
   "source": [
    "Reste donc à transformer cela en fonction Python 🙂\n",
    "\n",
    "<span style=\"color: #40d6d1; font-size: 1.2em;\"><strong>💡 Astuce |</strong></span> Dans le résultat de la cellule précédente, on voit que les valeurs des coordonnées sont relativement \"profond\" dans l'objet JSON retourné, appellons le `résultat`. Pour accéder à la latitude, il faut par exemple regarder dans \"results\", puis \"bindings\", puis \"lat\" puis \"value\".  On a donc envie d'écrire `résultat[\"results\"][\"bindings\"][\"lat\"][\"value\"]`. Oui mais voilà : si n'importe laquelle des clés n'existe pas, le code va planter ! On pourrait gérer ça avec des clauses imbriquées `if \"clé\" in résultats[\"...\"]: ...`, mais c'est très lourd.\n",
    "Mais il existe une astuce en utilisant la méthode `résultat.get(\"clé\")` à la place de `résultat[\"clé\"]`. Ces deux formes d'accès au contenu d'un dictionnaires sont presques similaires, sauf que :\n",
    "- `résultat.get(\"clé\")` renvoie `None` si \"clé\" n'est pas une clé du dictionnaire, alors que dans ce cas `résultat[\"clé\"]` lèvera une exception ;\n",
    "- `résultat.get()` accepte un second paramètre qui est la valeur retournée par défaut **si la clé n'existe pas**.\n",
    "\n",
    "L'astuce est alors de retourner un dictionnaire vide dans ce cas, ce qui permet de chainer les appels à `résultat.get` pour parcourir les éléments imbriqués : "
   ]
  },
  {
   "cell_type": "code",
   "execution_count": null,
   "metadata": {},
   "outputs": [],
   "source": [
    "# Exécutez-moi ! 🚀\n",
    "\n",
    "résultat = {\"a\": {\"b\": {\"c\": {\"d\": \"valeur finale\"}}}}\n",
    "\n",
    " # On chaîne les appels à get pour récupérer la valeur finale...\n",
    "print(\n",
    "    \"On récupère la valeur dans a->b->c->d :\",\n",
    "    résultat.get(\"a\", {}).get(\"b\", {}).get(\"c\", {}).get(\"d\", None),\n",
    ") \n",
    "\n",
    "# ... et on peut gérer les cas où la clé n'existe pas avec exactement le même code !\n",
    "résultat = {\"a\": {\"b\": {}}}\n",
    "print(\"On récupère la valeur dans a->b->c->d  mais c n'existe pas:\",\n",
    "    résultat.get(\"a\", {}).get(\"b\", {}).get(\"c\", {}).get(\"d\", None), # On récupère None s'il est impossible de parcourir le chemin souhaité dans le dictionnaire\n",
    ")"
   ]
  },
  {
   "cell_type": "markdown",
   "metadata": {},
   "source": [
    "Enfin, on peut exécuter une requête HTTP POST avec `requests.post()`, qui prend en arguments :\n",
    "- l'URL à requêter\n",
    "- un argument optionnel nommé `headers=` qui est un dictionnaire de *headers* HTTP;\n",
    "- un argument optionnel nommé `data=` qui est donc le contenu de la requête à envoyer au serveur ;\n",
    "\n",
    "\n",
    "Sachant cela et l'astuce pour parcourir un dictionnaire en main, il est temps de créer la fonction `geocode(uri: str) -> list[float]` qui :\n",
    "- prends en paramètre l'URI d'une ressource \"lieu\" ;\n",
    "- requête le *SPARQL endpoint* de DBPedia et récupère le résultat en JSON ; \n",
    "-  et renvoie ses coordonnées géographiques sous la forme d'un tuple (lat, long). Si aucune coordonnée n'existe, la fonction doit retourner une liste vide.\n",
    "\n",
    "<div style=\"border-top: 1px solid #ff9800; padding: 10px; border-radius: 5px; color:#ff9800;\"><strong>🧩 - QUESTION 6 - ⭐⭐⭐</strong></div>\n",
    "\n",
    "Complétez le corps de la fonction `geocode(str)` dans la cellule suivante."
   ]
  },
  {
   "cell_type": "code",
   "execution_count": null,
   "metadata": {},
   "outputs": [],
   "source": [
    "# Complétez-moi ! 🏗️\n",
    "\n",
    "\n",
    "@cache  # Mise en cache, les requêtes SPARQL sont coûteuses en temps !\n",
    "def geocode(uri: str) -> tuple[float, float]:\n",
    "\n",
    "    # Le patron de requête SPARQL: l'URI sera substituée à la place de %s par l'argument de la fonction\n",
    "    sparql_template = \"\"\"PREFIX geo: <http://www.w3.org/2003/01/geo/wgs84_pos#> SELECT ?lat ?long WHERE {<%s> (geo:lat) ?lat ; (geo:long) ?long. }\"\"\"\n",
    "\n",
    "    # On substitue l'URI dans le template de requête SPARQL en utilisant le formatage ancien de Python plutôt que les f-strings car la requête SPARQL contient déjà des accolades.\n",
    "    sparql_query = sparql_template % uri\n",
    "\n",
    "    http_headers = {\n",
    "        \"Content-Type\": \"application/sparql-query\",\n",
    "        \"Accept\": \"application/json\",\n",
    "    }\n",
    "    \n",
    "    response = ... # Complétez ici  pour appeler la requête POST avec les bons arguments ! 🏗️\n",
    "\n",
    "    response.raise_for_status()\n",
    "    json_response = response.json()\n",
    "\n",
    "    # Récupérer l'élément results -> bindings dans l'objet json_response\n",
    "    # ⚠️ ATTENTION : l'élement \"bindings\" est une liste, donc l'argument par défaut pour get(\"bindings\") doit être une liste vide => get(\"bindings\", [])\n",
    "    bindings = json_response.get(\"results\", {}).get(\"bindings\", [])\n",
    "\n",
    "    # Si la liste \"bindings\" est vide, lat et long seront None\n",
    "    if not bindings:\n",
    "        return None, None\n",
    "\n",
    "    # Sinon, le premier élément de la liste \"bindings\" est un dictionnaire contenant les valeurs de lat et long\n",
    "    bindings = bindings[0]\n",
    "\n",
    "    # Récupérer la valeur de latitude dans : lat -> value\n",
    "    lat = ... # Complétez ici : utilisez l'astuce de la méthode dict.get(\"clé\") ! Si la clé n'existe pas, lat  doit être None 🏗️\n",
    "\n",
    "    # Récupérer la valeur de longitude dans : long -> value\n",
    "    long = ... # Complétez ici comme pour lat 🏗️\n",
    "\n",
    "    # lat et long sont récupérés en tant que chaînes de caractères, on les convertit en float\n",
    "    lat = float(lat) or None\n",
    "    long = float(long) or None\n",
    "\n",
    "    return lat, long"
   ]
  },
  {
   "cell_type": "markdown",
   "metadata": {},
   "source": [
    "Exécutez la cellule suivante pour vérifier sur le cas de Staffordshire que la fonction `geocode()` renvoie le résultat attendu."
   ]
  },
  {
   "cell_type": "code",
   "execution_count": null,
   "metadata": {},
   "outputs": [],
   "source": [
    "# Exécutez-moi !   🚀\n",
    "\n",
    "uri = \"http://fr.dbpedia.org/resource/Staffordshire\"\n",
    "\n",
    "coordonnees = geocode(uri)\n",
    "print(f\"{uri=} => {coordonnees=}\")\n",
    "\n",
    "assert all(\n",
    "    [\n",
    "        isinstance(coordonnees, tuple),\n",
    "        len(coordonnees) == 2,\n",
    "        all(isinstance(x, float) for x in coordonnees),\n",
    "        coordonnees == (52.8333, -2.0),\n",
    "    ]\n",
    ")"
   ]
  },
  {
   "cell_type": "markdown",
   "metadata": {},
   "source": [
    " <div style=\"border-bottom: 1px solid #ff9800; padding: 10px; border-radius: 5px; margin-top: -30px;\"></div>\n",
    "\n",
    "## Assemblage de la chaîne de résolution de toponymes\n",
    "\n",
    "Ne reste \"plus qu'à\" assembler les composants de cette petite chaîne de traitement  !\n",
    "\n",
    "<div style=\"border-top: 1px solid #ff9800; padding: 10px; border-radius: 5px; color:#ff9800;\"><strong>🧩 - QUESTION 7 - ⭐</strong></div>\n",
    "\n",
    "Complétez le corps de la fonction `resolution(toponyme: str) -> tuple(float,float)` qui prend en argument un toponyme, puis appelle la fonction `dbpedia_top1()` afin de récupérer la ressource de DBPedia correspondant au toponyme, et si elle existe qui appelle la fonction `geocode()` et renvoie finalement les coordonnées (lat, long) trouvées.\n",
    "\n",
    "Note : si aucune ressource n'est trouvée, `resolution()` doit renvoyer le typle `(None, None)`.\n"
   ]
  },
  {
   "cell_type": "code",
   "execution_count": null,
   "metadata": {},
   "outputs": [],
   "source": [
    "# Complétez-moi ! 🏗️\n",
    "\n",
    "\n",
    "def resolution(toponyme: str) -> tuple[float, float]:\n",
    "\n",
    "    uri = ...  # Complétez ici ! 🏗️\n",
    "    \n",
    "    print(f\"{toponyme=} => {uri=}\", end=\"\")\n",
    "\n",
    "    if not uri:\n",
    "        lat, long = None, None\n",
    "    else:\n",
    "        ...  # Complétez ici ! 🏗️\n",
    "\n",
    "    print(f\" => {lat=}, {long=}\")\n",
    "    return lat, long"
   ]
  },
  {
   "cell_type": "markdown",
   "metadata": {},
   "source": [
    "Testez la fonction avec la cellule suivante !"
   ]
  },
  {
   "cell_type": "code",
   "execution_count": null,
   "metadata": {},
   "outputs": [],
   "source": [
    "# Exécutez-moi ! 🚀\n",
    "\n",
    "toponyme = \"Staffordshire\"\n",
    "assert resolution(toponyme) == (52.8333, -2.0)"
   ]
  },
  {
   "cell_type": "markdown",
   "metadata": {},
   "source": [
    " <div style=\"border-bottom: 1px solid #ff9800; padding: 10px; border-radius: 5px; margin-top: -30px;\"></div>\n",
    "\n",
    "# B/ Reconnaître automatiquement et cartographier les lieux d'un texte\n",
    "\n",
    "<span style=\"color: #85d0ff; font-size: 1.2em;\"><strong>ℹ️ Info |</strong></span> Cette seconde partie ne contient pas de question mais est un tutorial pour appliquer la chaîne de traitement construire à des textes dont les lieux sont reconnus à l'aide du modèle SpaCy entraîné dans la partie 1.\n",
    "\n",
    "\n",
    "## Premier essai\n",
    "\n",
    "\n",
    "L'idée est maintenant de pouvoir appliquer la chaîne de traitement à toutes les entités LOC extraites d'un texte historique par le modèles SpaCy entraîné dans la partie 1 !\n",
    "\n",
    "\n",
    "Commençons par charger le modèle, qui devrait se trouver dans le dossier `../partie_1/ner_presse_ancienne/model-best`."
   ]
  },
  {
   "cell_type": "code",
   "execution_count": null,
   "metadata": {},
   "outputs": [],
   "source": [
    "# Exécutez-moi ! 🚀\n",
    "\n",
    "import spacy\n",
    "\n",
    "nlp = spacy.load(\"../partie_1/ner_presse_ancienne/model-best\")"
   ]
  },
  {
   "cell_type": "markdown",
   "metadata": {},
   "source": [
    "Vérifions qu'il fonctionne correctement sur le texte d'exemple `bpt6k661732w.txt` situé dans le dossier `partie_2/`.\n",
    "\n",
    "Il s'agit du texte OCRisé par la BnF de [la une du l'Ouest Éclair du septembre 1939](https://gallica.bnf.fr/ark:/12148/bpt6k661732w/f1) (https://gallica.bnf.fr/ark:/12148/bpt6k661732w/f1) au lendemain du début de l'invasion de la Pologne par l'Allemagne nazie. On s'attend donc à y trouver mention de nombreux lieux liés aux pays impliqués."
   ]
  },
  {
   "cell_type": "code",
   "execution_count": null,
   "metadata": {},
   "outputs": [],
   "source": [
    "# Exécutez-moi ! 🚀\n",
    "\n",
    "from IPython import display\n",
    "from spacy import displacy\n",
    "\n",
    "with open(\"bpt6k661732w.txt\", \"r\") as file:\n",
    "    texte = file.read()\n",
    "\n",
    "doc = nlp(texte)\n",
    "# ⚠️ ATTENTION, la sortie de la cellule suivante est très longue, n'hésitez pas à commenter la ligne suivante une fois que vous avez vu le résultat\n",
    "# display.HTML(displacy.render(doc, style=\"ent\", jupyter=False, page=True))"
   ]
  },
  {
   "cell_type": "markdown",
   "metadata": {},
   "source": [
    "Le modèle prédit des entités de différentes classes (ORG, PER, LOC), mais nous ne sommes intéressés que par les lieux (LOC).\n",
    "Filtrons donc les entités nommées reconnues pour ne ressortir que les lieux."
   ]
  },
  {
   "cell_type": "code",
   "execution_count": null,
   "metadata": {},
   "outputs": [],
   "source": [
    "# Exécutez-moi ! 🚀\n",
    "\n",
    "loc = [ent.text for ent in doc.ents if ent.label_ == \"LOC\"]\n",
    "loc"
   ]
  },
  {
   "cell_type": "markdown",
   "metadata": {},
   "source": [
    "Nous pouvons maintenant exécuter la chaîne de traitement de résolution de toponymes pour chaque entité nommée LOC !"
   ]
  },
  {
   "cell_type": "code",
   "execution_count": null,
   "metadata": {},
   "outputs": [],
   "source": [
    "# Exécutez-moi ! 🚀\n",
    "\n",
    "for toponyme in loc:\n",
    "    resolution(toponyme)"
   ]
  },
  {
   "cell_type": "markdown",
   "metadata": {},
   "source": [
    "## Géocodage d'un texte\n",
    "\n",
    "Nous voici capables de récupérer les coordonnées des lieux dans un texte grâce à SpaCY et notre chaîne de traitement !\n",
    "\n",
    "Afin de réutiliser le mécanisme complet, créons une fonction `geocode_texte(texte: str, model: spacy.language.Language) -> tuple[list, list]` qui :\n",
    "- prend en argument un texte quelconque et le modèle SpaCy\n",
    "- renvoie deux listes : une liste de toutes les mentions de lieux reconnus, et une liste des paires de coordonnées identifiées pour chacun"
   ]
  },
  {
   "cell_type": "code",
   "execution_count": null,
   "metadata": {},
   "outputs": [],
   "source": [
    "# Exécutez-moi ! 🚀\n",
    "def geocode_texte(\n",
    "    text: str, nlp: spacy.language.Language\n",
    ") -> tuple[list[str], list[tuple[float, float]]]:\n",
    "    doc = nlp(text)\n",
    "    loc = [ent.text for ent in doc.ents if ent.label_ == \"LOC\"]\n",
    "    coordonnees = [resolution(toponyme) for toponyme in loc]\n",
    "    return loc, coordonnees"
   ]
  },
  {
   "cell_type": "markdown",
   "metadata": {},
   "source": [
    "On vérifie qu'on récupère le résultat souhaité :"
   ]
  },
  {
   "cell_type": "code",
   "execution_count": null,
   "metadata": {},
   "outputs": [],
   "source": [
    "loc, coordonnees = geocode_texte(texte, nlp)\n",
    "\n",
    "print(\"Mentions de toponymes trouvées :\", len(loc))\n",
    "print(f\"{loc=}\")\n",
    "print(f\"{coordonnees=}\")"
   ]
  },
  {
   "cell_type": "markdown",
   "metadata": {},
   "source": [
    "## Cartographie avec Folium\n",
    "\n",
    "\n",
    "Folium est une bibliothèque Python pour créer des cartes interactives extrêmement facilement; nous allons l'utiliser pour afficher la densité des mentions de toponymes localisés sous la forme d'une **carte de chaleur interactive** !\n",
    "\n",
    "Commençons par installer puis importer Folium ."
   ]
  },
  {
   "cell_type": "code",
   "execution_count": null,
   "metadata": {},
   "outputs": [],
   "source": [
    "# Exécutez-moi ! 🚀\n",
    "\n",
    "%pip install -q folium\n",
    "\n",
    "import folium"
   ]
  },
  {
   "cell_type": "markdown",
   "metadata": {},
   "source": [
    "On peut créer une carte avec Folium en créant simplement un objet `folium.Map`"
   ]
  },
  {
   "cell_type": "code",
   "execution_count": null,
   "metadata": {},
   "outputs": [],
   "source": [
    "# Exécutez-moi ! 🚀\n",
    "\n",
    "folium_map = folium.Map(\n",
    "    location=[48.8566, 2.3522],  # On précise les coordonnées du centre de la carte...\n",
    "    zoom_start=3,  # ... et le niveau de zoom initial. 0 = vue du monde, 18 = vue très rapprochée\n",
    ")\n",
    "\n",
    "# On affiche l'objet Map\n",
    "folium_map"
   ]
  },
  {
   "cell_type": "markdown",
   "metadata": {},
   "source": [
    "Ajouter des couches cartographiques est également très facile.\n",
    "\n",
    "Pour créer une carte de chaleur, il suffit de créer un objet de type `HeatMap`, disponible dans le module `folium.plugins`.\n",
    "\n",
    "L'objectif est donc de créer une carte de chaleur à partir des lieux géocodées dans un texte grâce à  `geocode_texte()`.\n",
    "\n",
    "Le constructeur de `HeatMap` accepte une liste de coordonnées géographiques **valides**. Nous devons donc préalablement retirer les paires de coordnnées `(None, None)` potentiellement produites par la chaîne de traitement lorsque des toponymes ne sont pas résolus.\n"
   ]
  },
  {
   "cell_type": "code",
   "execution_count": null,
   "metadata": {},
   "outputs": [],
   "source": [
    "# Exécutez-moi ! 🚀\n",
    "\n",
    "coordonnees_valides = [(lat, long) for lat, long in coordonnees if lat and long]\n",
    "\n",
    "print(\"Coordonnées valides :\", len(coordonnees_valides), \"/\", len(coordonnees))"
   ]
  },
  {
   "cell_type": "markdown",
   "metadata": {},
   "source": [
    "Il ne reste plus qu'à créer un objet `HeatMap` à partir de ces coordonnées valides, puis l'ajouter à la carte !"
   ]
  },
  {
   "cell_type": "code",
   "execution_count": null,
   "metadata": {},
   "outputs": [],
   "source": [
    "# Exécutez-moi ! 🚀\n",
    "\n",
    "from folium.plugins import HeatMap\n",
    "\n",
    "# On crée une carte de chaleur à partir des coordonnées valides\n",
    "heatmap = HeatMap(coordonnees_valides)\n",
    "\n",
    "# On ajoute la carte de chaleur à la carte folium\n",
    "heatmap.add_to(folium_map)"
   ]
  },
  {
   "cell_type": "markdown",
   "metadata": {},
   "source": [
    "Ce qui permet de construire la projection cartographique finale des mentions de lieux identifiés dans le texte de presse :"
   ]
  },
  {
   "cell_type": "code",
   "execution_count": null,
   "metadata": {},
   "outputs": [],
   "source": [
    "# Exécutez-moi ! 🚀\n",
    "\n",
    "folium_map"
   ]
  },
  {
   "cell_type": "markdown",
   "metadata": {},
   "source": [
    "<div style=\"border-bottom: 1px solid #ff9800; padding: 10px; border-radius: 5px; margin-top: -30px;\"></div>\n",
    "\n",
    "# Ouf, c'est fini ! 🏁\n",
    "\n",
    "C'est tout pour cette fois, vous voici arrivé(e)s au bout, félicitations ! 🎉🎉\n",
    "\n",
    "Si vous voulez expérimenter d'avantage, **lancez l'application Dash dashboard.py** qui réutilise le code créé ici et permet de projeter sur une carte un texte récupéré depuis Gallica grâce à son [API Document](https://api.bnf.fr/fr/api-document-de-gallica) !  "
   ]
  },
  {
   "cell_type": "code",
   "execution_count": null,
   "metadata": {},
   "outputs": [],
   "source": [
    "# Exécutez-moi ! 🚀\n",
    "\n",
    "! python ./dashboad.py"
   ]
  }
 ],
 "metadata": {
  "kernelspec": {
   "display_name": ".venv-home",
   "language": "python",
   "name": "python3"
  },
  "language_info": {
   "codemirror_mode": {
    "name": "ipython",
    "version": 3
   },
   "file_extension": ".py",
   "mimetype": "text/x-python",
   "name": "python",
   "nbconvert_exporter": "python",
   "pygments_lexer": "ipython3",
   "version": "3.12.7"
  }
 },
 "nbformat": 4,
 "nbformat_minor": 2
}
